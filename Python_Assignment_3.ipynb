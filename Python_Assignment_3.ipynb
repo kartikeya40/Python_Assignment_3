{
 "cells": [
  {
   "cell_type": "markdown",
   "id": "cdb04e5c",
   "metadata": {},
   "source": [
    "1.Why are functions advantageous to have in your programs?"
   ]
  },
  {
   "cell_type": "markdown",
   "id": "9db0e4a9",
   "metadata": {},
   "source": [
    "Functions eliminate the need for redundant code. This shortens programmes, makes them easier easier to read, and update"
   ]
  },
  {
   "cell_type": "markdown",
   "id": "035e4d5a",
   "metadata": {},
   "source": [
    "2.When does the code in a function run: when its specified or when its called?"
   ]
  },
  {
   "cell_type": "markdown",
   "id": "68361048",
   "metadata": {},
   "source": [
    "When its called"
   ]
  },
  {
   "cell_type": "markdown",
   "id": "45bf6290",
   "metadata": {},
   "source": [
    "3.What statement creates a function?"
   ]
  },
  {
   "cell_type": "markdown",
   "id": "fe6c65b1",
   "metadata": {},
   "source": [
    "A function can be created using the 'def' keyword before the function name"
   ]
  },
  {
   "cell_type": "markdown",
   "id": "b230901b",
   "metadata": {},
   "source": [
    "4.What is the difference between a function and a function call?"
   ]
  },
  {
   "cell_type": "markdown",
   "id": "60fba694",
   "metadata": {},
   "source": [
    "A function is a set of statements that fulfills a particular operation and returns some value whereas function call is used to call this function and execute the statements related to it"
   ]
  },
  {
   "cell_type": "markdown",
   "id": "d05e66d9",
   "metadata": {},
   "source": [
    "5.How many global scopes are there in a Python program? How many local scopes?"
   ]
  },
  {
   "cell_type": "markdown",
   "id": "55bddbc6",
   "metadata": {},
   "source": [
    "There is one global scope in a python program. It remains so till the program is terminated. There is one local scope\n"
   ]
  },
  {
   "cell_type": "markdown",
   "id": "19fe1aa3",
   "metadata": {},
   "source": [
    "6.What happens to variables in a local scope when the function call returns?"
   ]
  },
  {
   "cell_type": "markdown",
   "id": "4ba9f68e",
   "metadata": {},
   "source": [
    "The variables defined in the local scope aren't accessible"
   ]
  },
  {
   "cell_type": "markdown",
   "id": "dd5e3594",
   "metadata": {},
   "source": [
    "7.What is the concept of a return value? Is it possible to have a return value in an expression?"
   ]
  },
  {
   "cell_type": "markdown",
   "id": "f02c5eb4",
   "metadata": {},
   "source": [
    "Return Value is used to return the value of the function when it completes. No, expressions don't have a return value"
   ]
  },
  {
   "cell_type": "markdown",
   "id": "39c0c664",
   "metadata": {},
   "source": [
    "8.If a function does not have a return statement, what is the return value of a call to that function?"
   ]
  },
  {
   "cell_type": "markdown",
   "id": "ad87a397",
   "metadata": {},
   "source": [
    "It returns None"
   ]
  },
  {
   "cell_type": "markdown",
   "id": "1578377d",
   "metadata": {},
   "source": [
    "9.How do you make a function variable refer to the global variable?"
   ]
  },
  {
   "cell_type": "markdown",
   "id": "c5ab97e4",
   "metadata": {},
   "source": [
    "By using the global keyword for that variable inside the function's scope"
   ]
  },
  {
   "cell_type": "markdown",
   "id": "da69b104",
   "metadata": {},
   "source": [
    "10.What is the data type of None?"
   ]
  },
  {
   "cell_type": "markdown",
   "id": "8e03c2ac",
   "metadata": {},
   "source": [
    "It is the datatype of the class NoneType object"
   ]
  },
  {
   "cell_type": "markdown",
   "id": "9528a95f",
   "metadata": {},
   "source": [
    "11.What does the sentence import areallyourpetsnamederic do?"
   ]
  },
  {
   "cell_type": "markdown",
   "id": "adf28e92",
   "metadata": {},
   "source": [
    "Imports a module named areallyourpetsnamederic"
   ]
  },
  {
   "cell_type": "markdown",
   "id": "320f4938",
   "metadata": {},
   "source": [
    "12.If you had a bacon() feature in a spam module, what would you call it after importing spam?"
   ]
  },
  {
   "cell_type": "markdown",
   "id": "08c150bd",
   "metadata": {},
   "source": [
    "spam.bacon()"
   ]
  },
  {
   "cell_type": "markdown",
   "id": "7da342b6",
   "metadata": {},
   "source": [
    "13.What can you do to save a programme from crashing if it encounters an error?"
   ]
  },
  {
   "cell_type": "markdown",
   "id": "80d058ee",
   "metadata": {},
   "source": [
    "Use Try and Except for the part of code that can cause this issue"
   ]
  },
  {
   "cell_type": "markdown",
   "id": "135bd67f",
   "metadata": {},
   "source": [
    "14.What is the purpose of the try clause? What is the purpose of the except clause?"
   ]
  },
  {
   "cell_type": "markdown",
   "id": "7609b763",
   "metadata": {},
   "source": [
    "The Try Statement includes code that might potentially produce an error, and the Except Statement contains code that would be executed if an error occurred."
   ]
  }
 ],
 "metadata": {
  "kernelspec": {
   "display_name": "Python 3 (ipykernel)",
   "language": "python",
   "name": "python3"
  },
  "language_info": {
   "codemirror_mode": {
    "name": "ipython",
    "version": 3
   },
   "file_extension": ".py",
   "mimetype": "text/x-python",
   "name": "python",
   "nbconvert_exporter": "python",
   "pygments_lexer": "ipython3",
   "version": "3.9.7"
  }
 },
 "nbformat": 4,
 "nbformat_minor": 5
}
